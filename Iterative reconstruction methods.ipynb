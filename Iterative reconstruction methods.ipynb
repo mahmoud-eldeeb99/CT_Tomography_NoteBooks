\documentclass[11pt]{article}

    \usepackage[breakable]{tcolorbox}
    \usepackage{parskip} % Stop auto-indenting (to mimic markdown behaviour)
    
    \usepackage{iftex}
    \ifPDFTeX
    	\usepackage[T1]{fontenc}
    	\usepackage{mathpazo}
    \else
    	\usepackage{fontspec}
    \fi

    % Basic figure setup, for now with no caption control since it's done
    % automatically by Pandoc (which extracts ![](path) syntax from Markdown).
    \usepackage{graphicx}
    % Maintain compatibility with old templates. Remove in nbconvert 6.0
    \let\Oldincludegraphics\includegraphics
    % Ensure that by default, figures have no caption (until we provide a
    % proper Figure object with a Caption API and a way to capture that
    % in the conversion process - todo).
    \usepackage{caption}
    \DeclareCaptionFormat{nocaption}{}
    \captionsetup{format=nocaption,aboveskip=0pt,belowskip=0pt}

    \usepackage[Export]{adjustbox} % Used to constrain images to a maximum size
    \adjustboxset{max size={0.9\linewidth}{0.9\paperheight}}
    \usepackage{float}
    \floatplacement{figure}{H} % forces figures to be placed at the correct location
    \usepackage{xcolor} % Allow colors to be defined
    \usepackage{enumerate} % Needed for markdown enumerations to work
    \usepackage{geometry} % Used to adjust the document margins
    \usepackage{amsmath} % Equations
    \usepackage{amssymb} % Equations
    \usepackage{textcomp} % defines textquotesingle
    % Hack from http://tex.stackexchange.com/a/47451/13684:
    \AtBeginDocument{%
        \def\PYZsq{\textquotesingle}% Upright quotes in Pygmentized code
    }
    \usepackage{upquote} % Upright quotes for verbatim code
    \usepackage{eurosym} % defines \euro
    \usepackage[mathletters]{ucs} % Extended unicode (utf-8) support
    \usepackage{fancyvrb} % verbatim replacement that allows latex
    \usepackage{grffile} % extends the file name processing of package graphics 
                         % to support a larger range
    \makeatletter % fix for grffile with XeLaTeX
    \def\Gread@@xetex#1{%
      \IfFileExists{"\Gin@base".bb}%
      {\Gread@eps{\Gin@base.bb}}%
      {\Gread@@xetex@aux#1}%
    }
    \makeatother

    % The hyperref package gives us a pdf with properly built
    % internal navigation ('pdf bookmarks' for the table of contents,
    % internal cross-reference links, web links for URLs, etc.)
    \usepackage{hyperref}
    % The default LaTeX title has an obnoxious amount of whitespace. By default,
    % titling removes some of it. It also provides customization options.
    \usepackage{titling}
    \usepackage{longtable} % longtable support required by pandoc >1.10
    \usepackage{booktabs}  % table support for pandoc > 1.12.2
    \usepackage[inline]{enumitem} % IRkernel/repr support (it uses the enumerate* environment)
    \usepackage[normalem]{ulem} % ulem is needed to support strikethroughs (\sout)
                                % normalem makes italics be italics, not underlines
    \usepackage{mathrsfs}
    

    
    % Colors for the hyperref package
    \definecolor{urlcolor}{rgb}{0,.145,.698}
    \definecolor{linkcolor}{rgb}{.71,0.21,0.01}
    \definecolor{citecolor}{rgb}{.12,.54,.11}

    % ANSI colors
    \definecolor{ansi-black}{HTML}{3E424D}
    \definecolor{ansi-black-intense}{HTML}{282C36}
    \definecolor{ansi-red}{HTML}{E75C58}
    \definecolor{ansi-red-intense}{HTML}{B22B31}
    \definecolor{ansi-green}{HTML}{00A250}
    \definecolor{ansi-green-intense}{HTML}{007427}
    \definecolor{ansi-yellow}{HTML}{DDB62B}
    \definecolor{ansi-yellow-intense}{HTML}{B27D12}
    \definecolor{ansi-blue}{HTML}{208FFB}
    \definecolor{ansi-blue-intense}{HTML}{0065CA}
    \definecolor{ansi-magenta}{HTML}{D160C4}
    \definecolor{ansi-magenta-intense}{HTML}{A03196}
    \definecolor{ansi-cyan}{HTML}{60C6C8}
    \definecolor{ansi-cyan-intense}{HTML}{258F8F}
    \definecolor{ansi-white}{HTML}{C5C1B4}
    \definecolor{ansi-white-intense}{HTML}{A1A6B2}
    \definecolor{ansi-default-inverse-fg}{HTML}{FFFFFF}
    \definecolor{ansi-default-inverse-bg}{HTML}{000000}

    % commands and environments needed by pandoc snippets
    % extracted from the output of `pandoc -s`
    \providecommand{\tightlist}{%
      \setlength{\itemsep}{0pt}\setlength{\parskip}{0pt}}
    \DefineVerbatimEnvironment{Highlighting}{Verbatim}{commandchars=\\\{\}}
    % Add ',fontsize=\small' for more characters per line
    \newenvironment{Shaded}{}{}
    \newcommand{\KeywordTok}[1]{\textcolor[rgb]{0.00,0.44,0.13}{\textbf{{#1}}}}
    \newcommand{\DataTypeTok}[1]{\textcolor[rgb]{0.56,0.13,0.00}{{#1}}}
    \newcommand{\DecValTok}[1]{\textcolor[rgb]{0.25,0.63,0.44}{{#1}}}
    \newcommand{\BaseNTok}[1]{\textcolor[rgb]{0.25,0.63,0.44}{{#1}}}
    \newcommand{\FloatTok}[1]{\textcolor[rgb]{0.25,0.63,0.44}{{#1}}}
    \newcommand{\CharTok}[1]{\textcolor[rgb]{0.25,0.44,0.63}{{#1}}}
    \newcommand{\StringTok}[1]{\textcolor[rgb]{0.25,0.44,0.63}{{#1}}}
    \newcommand{\CommentTok}[1]{\textcolor[rgb]{0.38,0.63,0.69}{\textit{{#1}}}}
    \newcommand{\OtherTok}[1]{\textcolor[rgb]{0.00,0.44,0.13}{{#1}}}
    \newcommand{\AlertTok}[1]{\textcolor[rgb]{1.00,0.00,0.00}{\textbf{{#1}}}}
    \newcommand{\FunctionTok}[1]{\textcolor[rgb]{0.02,0.16,0.49}{{#1}}}
    \newcommand{\RegionMarkerTok}[1]{{#1}}
    \newcommand{\ErrorTok}[1]{\textcolor[rgb]{1.00,0.00,0.00}{\textbf{{#1}}}}
    \newcommand{\NormalTok}[1]{{#1}}
    
    % Additional commands for more recent versions of Pandoc
    \newcommand{\ConstantTok}[1]{\textcolor[rgb]{0.53,0.00,0.00}{{#1}}}
    \newcommand{\SpecialCharTok}[1]{\textcolor[rgb]{0.25,0.44,0.63}{{#1}}}
    \newcommand{\VerbatimStringTok}[1]{\textcolor[rgb]{0.25,0.44,0.63}{{#1}}}
    \newcommand{\SpecialStringTok}[1]{\textcolor[rgb]{0.73,0.40,0.53}{{#1}}}
    \newcommand{\ImportTok}[1]{{#1}}
    \newcommand{\DocumentationTok}[1]{\textcolor[rgb]{0.73,0.13,0.13}{\textit{{#1}}}}
    \newcommand{\AnnotationTok}[1]{\textcolor[rgb]{0.38,0.63,0.69}{\textbf{\textit{{#1}}}}}
    \newcommand{\CommentVarTok}[1]{\textcolor[rgb]{0.38,0.63,0.69}{\textbf{\textit{{#1}}}}}
    \newcommand{\VariableTok}[1]{\textcolor[rgb]{0.10,0.09,0.49}{{#1}}}
    \newcommand{\ControlFlowTok}[1]{\textcolor[rgb]{0.00,0.44,0.13}{\textbf{{#1}}}}
    \newcommand{\OperatorTok}[1]{\textcolor[rgb]{0.40,0.40,0.40}{{#1}}}
    \newcommand{\BuiltInTok}[1]{{#1}}
    \newcommand{\ExtensionTok}[1]{{#1}}
    \newcommand{\PreprocessorTok}[1]{\textcolor[rgb]{0.74,0.48,0.00}{{#1}}}
    \newcommand{\AttributeTok}[1]{\textcolor[rgb]{0.49,0.56,0.16}{{#1}}}
    \newcommand{\InformationTok}[1]{\textcolor[rgb]{0.38,0.63,0.69}{\textbf{\textit{{#1}}}}}
    \newcommand{\WarningTok}[1]{\textcolor[rgb]{0.38,0.63,0.69}{\textbf{\textit{{#1}}}}}
    
    
    % Define a nice break command that doesn't care if a line doesn't already
    % exist.
    \def\br{\hspace*{\fill} \\* }
    % Math Jax compatibility definitions
    \def\gt{>}
    \def\lt{<}
    \let\Oldtex\TeX
    \let\Oldlatex\LaTeX
    \renewcommand{\TeX}{\textrm{\Oldtex}}
    \renewcommand{\LaTeX}{\textrm{\Oldlatex}}
    % Document parameters
    % Document title
    \title{rec\_ex04\_iterative}
    
    
    
    
    
% Pygments definitions
\makeatletter
\def\PY@reset{\let\PY@it=\relax \let\PY@bf=\relax%
    \let\PY@ul=\relax \let\PY@tc=\relax%
    \let\PY@bc=\relax \let\PY@ff=\relax}
\def\PY@tok#1{\csname PY@tok@#1\endcsname}
\def\PY@toks#1+{\ifx\relax#1\empty\else%
    \PY@tok{#1}\expandafter\PY@toks\fi}
\def\PY@do#1{\PY@bc{\PY@tc{\PY@ul{%
    \PY@it{\PY@bf{\PY@ff{#1}}}}}}}
\def\PY#1#2{\PY@reset\PY@toks#1+\relax+\PY@do{#2}}

\expandafter\def\csname PY@tok@w\endcsname{\def\PY@tc##1{\textcolor[rgb]{0.73,0.73,0.73}{##1}}}
\expandafter\def\csname PY@tok@c\endcsname{\let\PY@it=\textit\def\PY@tc##1{\textcolor[rgb]{0.25,0.50,0.50}{##1}}}
\expandafter\def\csname PY@tok@cp\endcsname{\def\PY@tc##1{\textcolor[rgb]{0.74,0.48,0.00}{##1}}}
\expandafter\def\csname PY@tok@k\endcsname{\let\PY@bf=\textbf\def\PY@tc##1{\textcolor[rgb]{0.00,0.50,0.00}{##1}}}
\expandafter\def\csname PY@tok@kp\endcsname{\def\PY@tc##1{\textcolor[rgb]{0.00,0.50,0.00}{##1}}}
\expandafter\def\csname PY@tok@kt\endcsname{\def\PY@tc##1{\textcolor[rgb]{0.69,0.00,0.25}{##1}}}
\expandafter\def\csname PY@tok@o\endcsname{\def\PY@tc##1{\textcolor[rgb]{0.40,0.40,0.40}{##1}}}
\expandafter\def\csname PY@tok@ow\endcsname{\let\PY@bf=\textbf\def\PY@tc##1{\textcolor[rgb]{0.67,0.13,1.00}{##1}}}
\expandafter\def\csname PY@tok@nb\endcsname{\def\PY@tc##1{\textcolor[rgb]{0.00,0.50,0.00}{##1}}}
\expandafter\def\csname PY@tok@nf\endcsname{\def\PY@tc##1{\textcolor[rgb]{0.00,0.00,1.00}{##1}}}
\expandafter\def\csname PY@tok@nc\endcsname{\let\PY@bf=\textbf\def\PY@tc##1{\textcolor[rgb]{0.00,0.00,1.00}{##1}}}
\expandafter\def\csname PY@tok@nn\endcsname{\let\PY@bf=\textbf\def\PY@tc##1{\textcolor[rgb]{0.00,0.00,1.00}{##1}}}
\expandafter\def\csname PY@tok@ne\endcsname{\let\PY@bf=\textbf\def\PY@tc##1{\textcolor[rgb]{0.82,0.25,0.23}{##1}}}
\expandafter\def\csname PY@tok@nv\endcsname{\def\PY@tc##1{\textcolor[rgb]{0.10,0.09,0.49}{##1}}}
\expandafter\def\csname PY@tok@no\endcsname{\def\PY@tc##1{\textcolor[rgb]{0.53,0.00,0.00}{##1}}}
\expandafter\def\csname PY@tok@nl\endcsname{\def\PY@tc##1{\textcolor[rgb]{0.63,0.63,0.00}{##1}}}
\expandafter\def\csname PY@tok@ni\endcsname{\let\PY@bf=\textbf\def\PY@tc##1{\textcolor[rgb]{0.60,0.60,0.60}{##1}}}
\expandafter\def\csname PY@tok@na\endcsname{\def\PY@tc##1{\textcolor[rgb]{0.49,0.56,0.16}{##1}}}
\expandafter\def\csname PY@tok@nt\endcsname{\let\PY@bf=\textbf\def\PY@tc##1{\textcolor[rgb]{0.00,0.50,0.00}{##1}}}
\expandafter\def\csname PY@tok@nd\endcsname{\def\PY@tc##1{\textcolor[rgb]{0.67,0.13,1.00}{##1}}}
\expandafter\def\csname PY@tok@s\endcsname{\def\PY@tc##1{\textcolor[rgb]{0.73,0.13,0.13}{##1}}}
\expandafter\def\csname PY@tok@sd\endcsname{\let\PY@it=\textit\def\PY@tc##1{\textcolor[rgb]{0.73,0.13,0.13}{##1}}}
\expandafter\def\csname PY@tok@si\endcsname{\let\PY@bf=\textbf\def\PY@tc##1{\textcolor[rgb]{0.73,0.40,0.53}{##1}}}
\expandafter\def\csname PY@tok@se\endcsname{\let\PY@bf=\textbf\def\PY@tc##1{\textcolor[rgb]{0.73,0.40,0.13}{##1}}}
\expandafter\def\csname PY@tok@sr\endcsname{\def\PY@tc##1{\textcolor[rgb]{0.73,0.40,0.53}{##1}}}
\expandafter\def\csname PY@tok@ss\endcsname{\def\PY@tc##1{\textcolor[rgb]{0.10,0.09,0.49}{##1}}}
\expandafter\def\csname PY@tok@sx\endcsname{\def\PY@tc##1{\textcolor[rgb]{0.00,0.50,0.00}{##1}}}
\expandafter\def\csname PY@tok@m\endcsname{\def\PY@tc##1{\textcolor[rgb]{0.40,0.40,0.40}{##1}}}
\expandafter\def\csname PY@tok@gh\endcsname{\let\PY@bf=\textbf\def\PY@tc##1{\textcolor[rgb]{0.00,0.00,0.50}{##1}}}
\expandafter\def\csname PY@tok@gu\endcsname{\let\PY@bf=\textbf\def\PY@tc##1{\textcolor[rgb]{0.50,0.00,0.50}{##1}}}
\expandafter\def\csname PY@tok@gd\endcsname{\def\PY@tc##1{\textcolor[rgb]{0.63,0.00,0.00}{##1}}}
\expandafter\def\csname PY@tok@gi\endcsname{\def\PY@tc##1{\textcolor[rgb]{0.00,0.63,0.00}{##1}}}
\expandafter\def\csname PY@tok@gr\endcsname{\def\PY@tc##1{\textcolor[rgb]{1.00,0.00,0.00}{##1}}}
\expandafter\def\csname PY@tok@ge\endcsname{\let\PY@it=\textit}
\expandafter\def\csname PY@tok@gs\endcsname{\let\PY@bf=\textbf}
\expandafter\def\csname PY@tok@gp\endcsname{\let\PY@bf=\textbf\def\PY@tc##1{\textcolor[rgb]{0.00,0.00,0.50}{##1}}}
\expandafter\def\csname PY@tok@go\endcsname{\def\PY@tc##1{\textcolor[rgb]{0.53,0.53,0.53}{##1}}}
\expandafter\def\csname PY@tok@gt\endcsname{\def\PY@tc##1{\textcolor[rgb]{0.00,0.27,0.87}{##1}}}
\expandafter\def\csname PY@tok@err\endcsname{\def\PY@bc##1{\setlength{\fboxsep}{0pt}\fcolorbox[rgb]{1.00,0.00,0.00}{1,1,1}{\strut ##1}}}
\expandafter\def\csname PY@tok@kc\endcsname{\let\PY@bf=\textbf\def\PY@tc##1{\textcolor[rgb]{0.00,0.50,0.00}{##1}}}
\expandafter\def\csname PY@tok@kd\endcsname{\let\PY@bf=\textbf\def\PY@tc##1{\textcolor[rgb]{0.00,0.50,0.00}{##1}}}
\expandafter\def\csname PY@tok@kn\endcsname{\let\PY@bf=\textbf\def\PY@tc##1{\textcolor[rgb]{0.00,0.50,0.00}{##1}}}
\expandafter\def\csname PY@tok@kr\endcsname{\let\PY@bf=\textbf\def\PY@tc##1{\textcolor[rgb]{0.00,0.50,0.00}{##1}}}
\expandafter\def\csname PY@tok@bp\endcsname{\def\PY@tc##1{\textcolor[rgb]{0.00,0.50,0.00}{##1}}}
\expandafter\def\csname PY@tok@fm\endcsname{\def\PY@tc##1{\textcolor[rgb]{0.00,0.00,1.00}{##1}}}
\expandafter\def\csname PY@tok@vc\endcsname{\def\PY@tc##1{\textcolor[rgb]{0.10,0.09,0.49}{##1}}}
\expandafter\def\csname PY@tok@vg\endcsname{\def\PY@tc##1{\textcolor[rgb]{0.10,0.09,0.49}{##1}}}
\expandafter\def\csname PY@tok@vi\endcsname{\def\PY@tc##1{\textcolor[rgb]{0.10,0.09,0.49}{##1}}}
\expandafter\def\csname PY@tok@vm\endcsname{\def\PY@tc##1{\textcolor[rgb]{0.10,0.09,0.49}{##1}}}
\expandafter\def\csname PY@tok@sa\endcsname{\def\PY@tc##1{\textcolor[rgb]{0.73,0.13,0.13}{##1}}}
\expandafter\def\csname PY@tok@sb\endcsname{\def\PY@tc##1{\textcolor[rgb]{0.73,0.13,0.13}{##1}}}
\expandafter\def\csname PY@tok@sc\endcsname{\def\PY@tc##1{\textcolor[rgb]{0.73,0.13,0.13}{##1}}}
\expandafter\def\csname PY@tok@dl\endcsname{\def\PY@tc##1{\textcolor[rgb]{0.73,0.13,0.13}{##1}}}
\expandafter\def\csname PY@tok@s2\endcsname{\def\PY@tc##1{\textcolor[rgb]{0.73,0.13,0.13}{##1}}}
\expandafter\def\csname PY@tok@sh\endcsname{\def\PY@tc##1{\textcolor[rgb]{0.73,0.13,0.13}{##1}}}
\expandafter\def\csname PY@tok@s1\endcsname{\def\PY@tc##1{\textcolor[rgb]{0.73,0.13,0.13}{##1}}}
\expandafter\def\csname PY@tok@mb\endcsname{\def\PY@tc##1{\textcolor[rgb]{0.40,0.40,0.40}{##1}}}
\expandafter\def\csname PY@tok@mf\endcsname{\def\PY@tc##1{\textcolor[rgb]{0.40,0.40,0.40}{##1}}}
\expandafter\def\csname PY@tok@mh\endcsname{\def\PY@tc##1{\textcolor[rgb]{0.40,0.40,0.40}{##1}}}
\expandafter\def\csname PY@tok@mi\endcsname{\def\PY@tc##1{\textcolor[rgb]{0.40,0.40,0.40}{##1}}}
\expandafter\def\csname PY@tok@il\endcsname{\def\PY@tc##1{\textcolor[rgb]{0.40,0.40,0.40}{##1}}}
\expandafter\def\csname PY@tok@mo\endcsname{\def\PY@tc##1{\textcolor[rgb]{0.40,0.40,0.40}{##1}}}
\expandafter\def\csname PY@tok@ch\endcsname{\let\PY@it=\textit\def\PY@tc##1{\textcolor[rgb]{0.25,0.50,0.50}{##1}}}
\expandafter\def\csname PY@tok@cm\endcsname{\let\PY@it=\textit\def\PY@tc##1{\textcolor[rgb]{0.25,0.50,0.50}{##1}}}
\expandafter\def\csname PY@tok@cpf\endcsname{\let\PY@it=\textit\def\PY@tc##1{\textcolor[rgb]{0.25,0.50,0.50}{##1}}}
\expandafter\def\csname PY@tok@c1\endcsname{\let\PY@it=\textit\def\PY@tc##1{\textcolor[rgb]{0.25,0.50,0.50}{##1}}}
\expandafter\def\csname PY@tok@cs\endcsname{\let\PY@it=\textit\def\PY@tc##1{\textcolor[rgb]{0.25,0.50,0.50}{##1}}}

\def\PYZbs{\char`\\}
\def\PYZus{\char`\_}
\def\PYZob{\char`\{}
\def\PYZcb{\char`\}}
\def\PYZca{\char`\^}
\def\PYZam{\char`\&}
\def\PYZlt{\char`\<}
\def\PYZgt{\char`\>}
\def\PYZsh{\char`\#}
\def\PYZpc{\char`\%}
\def\PYZdl{\char`\$}
\def\PYZhy{\char`\-}
\def\PYZsq{\char`\'}
\def\PYZdq{\char`\"}
\def\PYZti{\char`\~}
% for compatibility with earlier versions
\def\PYZat{@}
\def\PYZlb{[}
\def\PYZrb{]}
\makeatother


    % For linebreaks inside Verbatim environment from package fancyvrb. 
    \makeatletter
        \newbox\Wrappedcontinuationbox 
        \newbox\Wrappedvisiblespacebox 
        \newcommand*\Wrappedvisiblespace {\textcolor{red}{\textvisiblespace}} 
        \newcommand*\Wrappedcontinuationsymbol {\textcolor{red}{\llap{\tiny$\m@th\hookrightarrow$}}} 
        \newcommand*\Wrappedcontinuationindent {3ex } 
        \newcommand*\Wrappedafterbreak {\kern\Wrappedcontinuationindent\copy\Wrappedcontinuationbox} 
        % Take advantage of the already applied Pygments mark-up to insert 
        % potential linebreaks for TeX processing. 
        %        {, <, #, %, $, ' and ": go to next line. 
        %        _, }, ^, &, >, - and ~: stay at end of broken line. 
        % Use of \textquotesingle for straight quote. 
        \newcommand*\Wrappedbreaksatspecials {% 
            \def\PYGZus{\discretionary{\char`\_}{\Wrappedafterbreak}{\char`\_}}% 
            \def\PYGZob{\discretionary{}{\Wrappedafterbreak\char`\{}{\char`\{}}% 
            \def\PYGZcb{\discretionary{\char`\}}{\Wrappedafterbreak}{\char`\}}}% 
            \def\PYGZca{\discretionary{\char`\^}{\Wrappedafterbreak}{\char`\^}}% 
            \def\PYGZam{\discretionary{\char`\&}{\Wrappedafterbreak}{\char`\&}}% 
            \def\PYGZlt{\discretionary{}{\Wrappedafterbreak\char`\<}{\char`\<}}% 
            \def\PYGZgt{\discretionary{\char`\>}{\Wrappedafterbreak}{\char`\>}}% 
            \def\PYGZsh{\discretionary{}{\Wrappedafterbreak\char`\#}{\char`\#}}% 
            \def\PYGZpc{\discretionary{}{\Wrappedafterbreak\char`\%}{\char`\%}}% 
            \def\PYGZdl{\discretionary{}{\Wrappedafterbreak\char`\$}{\char`\$}}% 
            \def\PYGZhy{\discretionary{\char`\-}{\Wrappedafterbreak}{\char`\-}}% 
            \def\PYGZsq{\discretionary{}{\Wrappedafterbreak\textquotesingle}{\textquotesingle}}% 
            \def\PYGZdq{\discretionary{}{\Wrappedafterbreak\char`\"}{\char`\"}}% 
            \def\PYGZti{\discretionary{\char`\~}{\Wrappedafterbreak}{\char`\~}}% 
        } 
        % Some characters . , ; ? ! / are not pygmentized. 
        % This macro makes them "active" and they will insert potential linebreaks 
        \newcommand*\Wrappedbreaksatpunct {% 
            \lccode`\~`\.\lowercase{\def~}{\discretionary{\hbox{\char`\.}}{\Wrappedafterbreak}{\hbox{\char`\.}}}% 
            \lccode`\~`\,\lowercase{\def~}{\discretionary{\hbox{\char`\,}}{\Wrappedafterbreak}{\hbox{\char`\,}}}% 
            \lccode`\~`\;\lowercase{\def~}{\discretionary{\hbox{\char`\;}}{\Wrappedafterbreak}{\hbox{\char`\;}}}% 
            \lccode`\~`\:\lowercase{\def~}{\discretionary{\hbox{\char`\:}}{\Wrappedafterbreak}{\hbox{\char`\:}}}% 
            \lccode`\~`\?\lowercase{\def~}{\discretionary{\hbox{\char`\?}}{\Wrappedafterbreak}{\hbox{\char`\?}}}% 
            \lccode`\~`\!\lowercase{\def~}{\discretionary{\hbox{\char`\!}}{\Wrappedafterbreak}{\hbox{\char`\!}}}% 
            \lccode`\~`\/\lowercase{\def~}{\discretionary{\hbox{\char`\/}}{\Wrappedafterbreak}{\hbox{\char`\/}}}% 
            \catcode`\.\active
            \catcode`\,\active 
            \catcode`\;\active
            \catcode`\:\active
            \catcode`\?\active
            \catcode`\!\active
            \catcode`\/\active 
            \lccode`\~`\~ 	
        }
    \makeatother

    \let\OriginalVerbatim=\Verbatim
    \makeatletter
    \renewcommand{\Verbatim}[1][1]{%
        %\parskip\z@skip
        \sbox\Wrappedcontinuationbox {\Wrappedcontinuationsymbol}%
        \sbox\Wrappedvisiblespacebox {\FV@SetupFont\Wrappedvisiblespace}%
        \def\FancyVerbFormatLine ##1{\hsize\linewidth
            \vtop{\raggedright\hyphenpenalty\z@\exhyphenpenalty\z@
                \doublehyphendemerits\z@\finalhyphendemerits\z@
                \strut ##1\strut}%
        }%
        % If the linebreak is at a space, the latter will be displayed as visible
        % space at end of first line, and a continuation symbol starts next line.
        % Stretch/shrink are however usually zero for typewriter font.
        \def\FV@Space {%
            \nobreak\hskip\z@ plus\fontdimen3\font minus\fontdimen4\font
            \discretionary{\copy\Wrappedvisiblespacebox}{\Wrappedafterbreak}
            {\kern\fontdimen2\font}%
        }%
        
        % Allow breaks at special characters using \PYG... macros.
        \Wrappedbreaksatspecials
        % Breaks at punctuation characters . , ; ? ! and / need catcode=\active 	
        \OriginalVerbatim[#1,codes*=\Wrappedbreaksatpunct]%
    }
    \makeatother

    % Exact colors from NB
    \definecolor{incolor}{HTML}{303F9F}
    \definecolor{outcolor}{HTML}{D84315}
    \definecolor{cellborder}{HTML}{CFCFCF}
    \definecolor{cellbackground}{HTML}{F7F7F7}
    
    % prompt
    \makeatletter
    \newcommand{\boxspacing}{\kern\kvtcb@left@rule\kern\kvtcb@boxsep}
    \makeatother
    \newcommand{\prompt}[4]{
        \ttfamily\llap{{\color{#2}[#3]:\hspace{3pt}#4}}\vspace{-\baselineskip}
    }
    

    
    % Prevent overflowing lines due to hard-to-break entities
    \sloppy 
    % Setup hyperref package
    \hypersetup{
      breaklinks=true,  % so long urls are correctly broken across lines
      colorlinks=true,
      urlcolor=urlcolor,
      linkcolor=linkcolor,
      citecolor=citecolor,
      }
    % Slightly bigger margins than the latex defaults
    
    \geometry{verbose,tmargin=1in,bmargin=1in,lmargin=1in,rmargin=1in}
    
    

\begin{document}
    
    \maketitle
    
    

    
    \hypertarget{exercise-4-iterative-reconstruction-methods}{%
\section{Exercise 4: Iterative reconstruction
methods}\label{exercise-4-iterative-reconstruction-methods}}

\hypertarget{authorcontact-jakob-sauer-jorgensen-technical-university-of-denmark-dtu-jakjdtu.dk}{%
\subparagraph{Author/contact: Jakob Sauer Jorgensen, Technical
University of Denmark (DTU),
jakj@dtu.dk}\label{authorcontact-jakob-sauer-jorgensen-technical-university-of-denmark-dtu-jakjdtu.dk}}

    \textbf{The goal} of this exercise is become familiar with iterative
reconstruction methods SIRT, CGLS and TV-regularization using again the
synthetic Shepp-Logan test image. The main task is to play with
parameters such as number of iterations and the TV regularization
parameter to get the best possible reconstruction.

    \textbf{In this notebook do the following:}

\begin{enumerate}
\def\labelenumi{\arabic{enumi}.}
\tightlist
\item
  Step through the cells below (Shift+Enter), read the descriptions and
  inspect the generated figures.
\item
  For SIRT, play with the number of iterations, starting with few (5 or
  10), then increasing through e.g.~20, 50, 100, 200, 500, 1000 and see
  how the reconstruction changes from being initially smooth to
  improving. If noise is included, reconstructions will eventually
  become noisy. Try to find the optimal number of iterations to stop at.
\item
  For CGLS, a similar behavior is observed, but the transition happens
  much faster, so the optimal reconstruction will be reached at fewer
  iterations than for SIRT.
\item
  For TV, play with the regularization parameter \texttt{lam}. A quite
  large range of values can be relevant depending on the particalur
  data, so it is useful to search for the best parameter by changing by
  factors of 10, i.e, to 10\^{}-3, 10\^{}-2, and 10\^{}-5, 10\^{}-6,
  initially and then refine search.
\item
  Try reducing the number of projections further to see how each method
  performs and adjust parameters to achieve the best possible
  reconstruction.
\item
  Try increasing the noise level by reducing the value of \texttt{flux},
  and try again to achieve the best possible reconstruction.
\end{enumerate}

    First we load the required modules. We also enable ``notebook mode'' to
allow easily zooming in figures etc.

    \begin{tcolorbox}[breakable, size=fbox, boxrule=1pt, pad at break*=1mm,colback=cellbackground, colframe=cellborder]
\prompt{In}{incolor}{1}{\boxspacing}
\begin{Verbatim}[commandchars=\\\{\}]
\PY{k+kn}{import} \PY{n+nn}{numpy} \PY{k}{as} \PY{n+nn}{np}
\PY{k+kn}{import} \PY{n+nn}{matplotlib}\PY{n+nn}{.}\PY{n+nn}{pyplot} \PY{k}{as} \PY{n+nn}{plt}
\PY{k+kn}{import} \PY{n+nn}{scipy}\PY{n+nn}{.}\PY{n+nn}{io}
\PY{k+kn}{import} \PY{n+nn}{astra}

\PY{o}{\PYZpc{}}\PY{k}{matplotlib} notebook

\PY{n}{astra}\PY{o}{.}\PY{n}{clear}\PY{p}{(}\PY{p}{)}
\end{Verbatim}
\end{tcolorbox}

    As in Exercise 1, we load and display again the Shepp-Logan test image:

    \begin{tcolorbox}[breakable, size=fbox, boxrule=1pt, pad at break*=1mm,colback=cellbackground, colframe=cellborder]
\prompt{In}{incolor}{2}{\boxspacing}
\begin{Verbatim}[commandchars=\\\{\}]
\PY{n}{N} \PY{o}{=} \PY{l+m+mi}{512}\PY{p}{;}
\PY{n}{X0} \PY{o}{=} \PY{n}{scipy}\PY{o}{.}\PY{n}{io}\PY{o}{.}\PY{n}{loadmat}\PY{p}{(}\PY{l+s+s1}{\PYZsq{}}\PY{l+s+s1}{phantom512.mat}\PY{l+s+s1}{\PYZsq{}}\PY{p}{)}\PY{p}{[}\PY{l+s+s1}{\PYZsq{}}\PY{l+s+s1}{X}\PY{l+s+s1}{\PYZsq{}}\PY{p}{]}
\PY{n}{plt}\PY{o}{.}\PY{n}{figure}\PY{p}{(}\PY{l+m+mi}{1}\PY{p}{)}
\PY{n}{plt}\PY{o}{.}\PY{n}{imshow}\PY{p}{(}\PY{n}{X0}\PY{p}{)}
\PY{n}{plt}\PY{o}{.}\PY{n}{title}\PY{p}{(}\PY{l+s+s1}{\PYZsq{}}\PY{l+s+s1}{Original}\PY{l+s+s1}{\PYZsq{}}\PY{p}{)}
\PY{n}{plt}\PY{o}{.}\PY{n}{colorbar}\PY{p}{(}\PY{p}{)}
\PY{n}{plt}\PY{o}{.}\PY{n}{gray}\PY{p}{(}\PY{p}{)}
\end{Verbatim}
\end{tcolorbox}

    
    \begin{verbatim}
<IPython.core.display.Javascript object>
    \end{verbatim}

    
    
    \begin{verbatim}
<IPython.core.display.HTML object>
    \end{verbatim}

    
    The following parameters specify the tomographic imaging setup. Note it
is the same setup as in the Exercise 1, except no noise is initially
applied, and a lower number of angles is used:

    \begin{tcolorbox}[breakable, size=fbox, boxrule=1pt, pad at break*=1mm,colback=cellbackground, colframe=cellborder]
\prompt{In}{incolor}{3}{\boxspacing}
\begin{Verbatim}[commandchars=\\\{\}]
\PY{c+c1}{\PYZsh{} Number of projection angles.}
\PY{n}{num\PYZus{}angles} \PY{o}{=} \PY{l+m+mi}{64}

\PY{c+c1}{\PYZsh{} Number of detector pixels}
\PY{n}{num\PYZus{}detector\PYZus{}pixels} \PY{o}{=} \PY{l+m+mi}{512}

\PY{c+c1}{\PYZsh{} Size of a detector pixel relative to an object pixel. }
\PY{c+c1}{\PYZsh{} Using 1 specifies they are of same size. }
\PY{c+c1}{\PYZsh{} Using e.g. 0.5 means a detector pixel is half the size of an object pixel.}
\PY{n}{rel\PYZus{}detector\PYZus{}size} \PY{o}{=} \PY{l+m+mf}{1.0}

\PY{c+c1}{\PYZsh{} Incident X\PYZhy{}ray flux in photons per time unit, for example 1e4. Lower=noisier. If infinity (np.inf), no noise.}
\PY{n}{flux} \PY{o}{=} \PY{n}{np}\PY{o}{.}\PY{n}{inf}
\end{Verbatim}
\end{tcolorbox}

    Specify angles:

    \begin{tcolorbox}[breakable, size=fbox, boxrule=1pt, pad at break*=1mm,colback=cellbackground, colframe=cellborder]
\prompt{In}{incolor}{4}{\boxspacing}
\begin{Verbatim}[commandchars=\\\{\}]
\PY{n}{angles} \PY{o}{=} \PY{n}{np}\PY{o}{.}\PY{n}{linspace}\PY{p}{(}\PY{l+m+mi}{0}\PY{p}{,}\PY{n}{np}\PY{o}{.}\PY{n}{pi}\PY{p}{,}\PY{n}{num\PYZus{}angles}\PY{p}{,}\PY{k+kc}{False}\PY{p}{)}
\end{Verbatim}
\end{tcolorbox}

    Set up volume geometry, projection geometry and projector:

    \begin{tcolorbox}[breakable, size=fbox, boxrule=1pt, pad at break*=1mm,colback=cellbackground, colframe=cellborder]
\prompt{In}{incolor}{5}{\boxspacing}
\begin{Verbatim}[commandchars=\\\{\}]
\PY{n}{proj\PYZus{}type} \PY{o}{=} \PY{l+s+s1}{\PYZsq{}}\PY{l+s+s1}{line}\PY{l+s+s1}{\PYZsq{}}

\PY{n}{vol\PYZus{}geom} \PY{o}{=} \PY{n}{astra}\PY{o}{.}\PY{n}{create\PYZus{}vol\PYZus{}geom}\PY{p}{(}\PY{n}{N}\PY{p}{,}\PY{n}{N}\PY{p}{)}
\PY{n}{proj\PYZus{}geom} \PY{o}{=} \PY{n}{astra}\PY{o}{.}\PY{n}{create\PYZus{}proj\PYZus{}geom}\PY{p}{(}\PY{l+s+s1}{\PYZsq{}}\PY{l+s+s1}{parallel}\PY{l+s+s1}{\PYZsq{}}\PY{p}{,}\PY{n}{rel\PYZus{}detector\PYZus{}size}\PY{p}{,} \PY{n}{num\PYZus{}detector\PYZus{}pixels}\PY{p}{,}\PY{n}{angles}\PY{p}{)}
\PY{n}{proj\PYZus{}id} \PY{o}{=} \PY{n}{astra}\PY{o}{.}\PY{n}{create\PYZus{}projector}\PY{p}{(}\PY{n}{proj\PYZus{}type}\PY{p}{,}\PY{n}{proj\PYZus{}geom}\PY{p}{,}\PY{n}{vol\PYZus{}geom}\PY{p}{)}
\end{Verbatim}
\end{tcolorbox}

    Create noisy sinogram (if \texttt{flux} is set to \texttt{np.inf}, the
sinogram will be noise-free).

Delete the clean sinogram, so that only the noisy one is available.

    \begin{tcolorbox}[breakable, size=fbox, boxrule=1pt, pad at break*=1mm,colback=cellbackground, colframe=cellborder]
\prompt{In}{incolor}{6}{\boxspacing}
\begin{Verbatim}[commandchars=\\\{\}]
\PY{c+c1}{\PYZsh{} sino\PYZus{}id is an integer ID representing the created sinogram internally in ASTRA.}
\PY{c+c1}{\PYZsh{} sinogram is an array with the computed sinogram}
\PY{n}{sino\PYZus{}id}\PY{p}{,} \PY{n}{sinogram} \PY{o}{=} \PY{n}{astra}\PY{o}{.}\PY{n}{create\PYZus{}sino}\PY{p}{(}\PY{n}{X0}\PY{p}{,}\PY{n}{proj\PYZus{}id}\PY{p}{)}

\PY{c+c1}{\PYZsh{} Add noise}
\PY{k}{if} \PY{o}{\PYZti{}}\PY{n}{np}\PY{o}{.}\PY{n}{isinf}\PY{p}{(}\PY{n}{flux}\PY{p}{)}\PY{p}{:}
    \PY{n}{sinogram\PYZus{}noisy} \PY{o}{=} \PY{n}{astra}\PY{o}{.}\PY{n}{add\PYZus{}noise\PYZus{}to\PYZus{}sino}\PY{p}{(}\PY{n}{sinogram}\PY{p}{,}\PY{n}{flux}\PY{p}{)} 
\PY{k}{else}\PY{p}{:}
    \PY{n}{sinogram\PYZus{}noisy} \PY{o}{=} \PY{n}{sinogram}

\PY{c+c1}{\PYZsh{} Delete clean sinogram}
\PY{k}{del} \PY{n}{sinogram}
\end{Verbatim}
\end{tcolorbox}

    We want to compare reconstructions from a number of reconstruction
methods and to that we use two ways of comparing:

Visually, by displaying reconstructions using the same gray-scale.

Quantitatively, in terms of the simple quality measure root-mean-square
error RMSE.

We set up two auxiliary functions for this:

    \begin{tcolorbox}[breakable, size=fbox, boxrule=1pt, pad at break*=1mm,colback=cellbackground, colframe=cellborder]
\prompt{In}{incolor}{7}{\boxspacing}
\begin{Verbatim}[commandchars=\\\{\}]
\PY{k}{def} \PY{n+nf}{dispim}\PY{p}{(}\PY{n}{im}\PY{p}{)}\PY{p}{:}
    \PY{n}{plt}\PY{o}{.}\PY{n}{imshow}\PY{p}{(}\PY{n}{im}\PY{p}{,} \PY{n}{vmin}\PY{o}{=}\PY{o}{\PYZhy{}}\PY{l+m+mf}{0.2}\PY{p}{,} \PY{n}{vmax}\PY{o}{=}\PY{l+m+mf}{1.2}\PY{p}{)}
    \PY{n}{plt}\PY{o}{.}\PY{n}{colorbar}\PY{p}{(}\PY{p}{)}
    \PY{n}{plt}\PY{o}{.}\PY{n}{gray}\PY{p}{(}\PY{p}{)}

\PY{k}{def} \PY{n+nf}{RMSE}\PY{p}{(}\PY{n}{im1}\PY{p}{,}\PY{n}{im2}\PY{p}{)}\PY{p}{:}
    \PY{k}{return} \PY{n}{np}\PY{o}{.}\PY{n}{sqrt}\PY{p}{(}\PY{n}{np}\PY{o}{.}\PY{n}{sum}\PY{p}{(}\PY{p}{(}\PY{n}{im1}\PY{o}{\PYZhy{}}\PY{n}{im2}\PY{p}{)}\PY{o}{.}\PY{n}{flatten}\PY{p}{(}\PY{p}{)}\PY{o}{*}\PY{o}{*}\PY{l+m+mi}{2}\PY{p}{)}\PY{o}{/}\PY{n}{X0}\PY{o}{.}\PY{n}{size}\PY{p}{)}
\end{Verbatim}
\end{tcolorbox}

    First we compute an FBP reconstruction as in the previous exercise for
reference. We display it and also compute and show its RMSE in the
title.

    \begin{tcolorbox}[breakable, size=fbox, boxrule=1pt, pad at break*=1mm,colback=cellbackground, colframe=cellborder]
\prompt{In}{incolor}{8}{\boxspacing}
\begin{Verbatim}[commandchars=\\\{\}]
\PY{n}{rec\PYZus{}fbp\PYZus{}id}\PY{p}{,} \PY{n}{rec\PYZus{}fbp} \PY{o}{=} \PY{n}{astra}\PY{o}{.}\PY{n}{create\PYZus{}reconstruction}\PY{p}{(}\PY{l+s+s1}{\PYZsq{}}\PY{l+s+s1}{FBP}\PY{l+s+s1}{\PYZsq{}}\PY{p}{,} \PY{n}{proj\PYZus{}id}\PY{p}{,} \PY{n}{sinogram\PYZus{}noisy}\PY{p}{,} \PY{n}{filterType}\PY{o}{=}\PY{l+s+s1}{\PYZsq{}}\PY{l+s+s1}{ram\PYZhy{}lak}\PY{l+s+s1}{\PYZsq{}}\PY{p}{)}

\PY{n}{rmse\PYZus{}fbp} \PY{o}{=} \PY{n}{RMSE}\PY{p}{(}\PY{n}{rec\PYZus{}fbp}\PY{p}{,}\PY{n}{X0}\PY{p}{)}

\PY{n}{plt}\PY{o}{.}\PY{n}{figure}\PY{p}{(}\PY{l+m+mi}{2}\PY{p}{)}
\PY{n}{dispim}\PY{p}{(}\PY{n}{rec\PYZus{}fbp}\PY{p}{)}
\PY{n}{plt}\PY{o}{.}\PY{n}{title}\PY{p}{(}\PY{l+s+s1}{\PYZsq{}}\PY{l+s+s1}{FBP, RMSE=}\PY{l+s+si}{\PYZpc{}1.3f}\PY{l+s+s1}{\PYZsq{}} \PY{o}{\PYZpc{}} \PY{n}{rmse\PYZus{}fbp}\PY{p}{)}
\end{Verbatim}
\end{tcolorbox}

    
    \begin{verbatim}
<IPython.core.display.Javascript object>
    \end{verbatim}

    
    
    \begin{verbatim}
<IPython.core.display.HTML object>
    \end{verbatim}

    
            \begin{tcolorbox}[breakable, size=fbox, boxrule=.5pt, pad at break*=1mm, opacityfill=0]
\prompt{Out}{outcolor}{8}{\boxspacing}
\begin{Verbatim}[commandchars=\\\{\}]
Text(0.5, 1.0, 'FBP, RMSE=0.121')
\end{Verbatim}
\end{tcolorbox}
        
    Note the streak artifacts caused by having few projections as well as
the RMSE value.

Try changing the filter to see the effect on the image and the RMSE.
Which filter produces the best image in terms of lowest RMSE?

    Next we try the SIRT algorithm.

Note that the number of iterations to run must be specified and that the
choice of 100 iterations is just for demonstration and by no means
optimal.

Try reducing and increasing the number of iterations and see the effect
on the image and RMSE, and compare to that of FBP.

    \begin{tcolorbox}[breakable, size=fbox, boxrule=1pt, pad at break*=1mm,colback=cellbackground, colframe=cellborder]
\prompt{In}{incolor}{9}{\boxspacing}
\begin{Verbatim}[commandchars=\\\{\}]
\PY{n}{rec\PYZus{}sirt\PYZus{}id}\PY{p}{,} \PY{n}{rec\PYZus{}sirt} \PY{o}{=} \PY{n}{astra}\PY{o}{.}\PY{n}{create\PYZus{}reconstruction}\PY{p}{(}\PY{l+s+s1}{\PYZsq{}}\PY{l+s+s1}{SIRT}\PY{l+s+s1}{\PYZsq{}}\PY{p}{,} \PY{n}{proj\PYZus{}id}\PY{p}{,} \PY{n}{sinogram\PYZus{}noisy}\PY{p}{,}\PY{n}{iterations}\PY{o}{=}\PY{l+m+mi}{100}\PY{p}{)}

\PY{n}{rmse\PYZus{}sirt} \PY{o}{=} \PY{n}{RMSE}\PY{p}{(}\PY{n}{rec\PYZus{}sirt}\PY{p}{,}\PY{n}{X0}\PY{p}{)}

\PY{n}{plt}\PY{o}{.}\PY{n}{figure}\PY{p}{(}\PY{l+m+mi}{3}\PY{p}{)}
\PY{n}{dispim}\PY{p}{(}\PY{n}{rec\PYZus{}sirt}\PY{p}{)}
\PY{n}{plt}\PY{o}{.}\PY{n}{title}\PY{p}{(}\PY{l+s+s1}{\PYZsq{}}\PY{l+s+s1}{SIRT, RMSE=}\PY{l+s+si}{\PYZpc{}1.3f}\PY{l+s+s1}{\PYZsq{}} \PY{o}{\PYZpc{}} \PY{n}{rmse\PYZus{}sirt}\PY{p}{)}
\end{Verbatim}
\end{tcolorbox}

    
    \begin{verbatim}
<IPython.core.display.Javascript object>
    \end{verbatim}

    
    
    \begin{verbatim}
<IPython.core.display.HTML object>
    \end{verbatim}

    
            \begin{tcolorbox}[breakable, size=fbox, boxrule=.5pt, pad at break*=1mm, opacityfill=0]
\prompt{Out}{outcolor}{9}{\boxspacing}
\begin{Verbatim}[commandchars=\\\{\}]
Text(0.5, 1.0, 'SIRT, RMSE=0.070')
\end{Verbatim}
\end{tcolorbox}
        
    A useful feature of the SIRT algorithm is that we can enforce
nonnegativity of the pixel values. Normally we know that we cannot have
negative values, and using this information in the algorithm can
sometimes improve the reconstruction quite a lot, especially if only few
projections are available.

Note that it is also possible to enforce other lower bounds than zero,
as well as upper bounds, but here we just use the lower bound of zero
for nonnegativity.

    \begin{tcolorbox}[breakable, size=fbox, boxrule=1pt, pad at break*=1mm,colback=cellbackground, colframe=cellborder]
\prompt{In}{incolor}{10}{\boxspacing}
\begin{Verbatim}[commandchars=\\\{\}]
\PY{n}{rec\PYZus{}sirt\PYZus{}nn\PYZus{}id}\PY{p}{,} \PY{n}{rec\PYZus{}sirt\PYZus{}nn} \PY{o}{=} \PY{n}{astra}\PY{o}{.}\PY{n}{create\PYZus{}reconstruction}\PY{p}{(}\PY{l+s+s1}{\PYZsq{}}\PY{l+s+s1}{SIRT}\PY{l+s+s1}{\PYZsq{}}\PY{p}{,} \PY{n}{proj\PYZus{}id}\PY{p}{,} \PY{n}{sinogram\PYZus{}noisy}\PY{p}{,}\PY{n}{iterations}\PY{o}{=}\PY{l+m+mi}{100}\PY{p}{,}\PY{n}{use\PYZus{}minc}\PY{o}{=}\PY{l+s+s1}{\PYZsq{}}\PY{l+s+s1}{yes}\PY{l+s+s1}{\PYZsq{}}\PY{p}{)}

\PY{n}{rmse\PYZus{}sirt\PYZus{}nn} \PY{o}{=} \PY{n}{RMSE}\PY{p}{(}\PY{n}{rec\PYZus{}sirt\PYZus{}nn}\PY{p}{,}\PY{n}{X0}\PY{p}{)}

\PY{n}{plt}\PY{o}{.}\PY{n}{figure}\PY{p}{(}\PY{l+m+mi}{4}\PY{p}{)}
\PY{n}{dispim}\PY{p}{(}\PY{n}{rec\PYZus{}sirt\PYZus{}nn}\PY{p}{)}
\PY{n}{plt}\PY{o}{.}\PY{n}{title}\PY{p}{(}\PY{l+s+s1}{\PYZsq{}}\PY{l+s+s1}{SIRT nonneg: RMSE=}\PY{l+s+si}{\PYZpc{}1.3f}\PY{l+s+s1}{\PYZsq{}} \PY{o}{\PYZpc{}} \PY{n}{rmse\PYZus{}sirt\PYZus{}nn}\PY{p}{)}
\end{Verbatim}
\end{tcolorbox}

    
    \begin{verbatim}
<IPython.core.display.Javascript object>
    \end{verbatim}

    
    
    \begin{verbatim}
<IPython.core.display.HTML object>
    \end{verbatim}

    
            \begin{tcolorbox}[breakable, size=fbox, boxrule=.5pt, pad at break*=1mm, opacityfill=0]
\prompt{Out}{outcolor}{10}{\boxspacing}
\begin{Verbatim}[commandchars=\\\{\}]
Text(0.5, 1.0, 'SIRT nonneg: RMSE=0.057')
\end{Verbatim}
\end{tcolorbox}
        
    Note that the streaks almost disappear and that the RMSE improves.

SIRT tends to require a fairly large number of iterations for the best
trade-off between the initial smooth appearance and the noisy
reconstruction when running many iterations. For a small test image like
this, a large number of iterations is not a problem, but for large real
data sets it can/will be.

Another algorithm is CGLS, which tends to achieve its optimal
reconstruction using far fewer iterations.

    \begin{tcolorbox}[breakable, size=fbox, boxrule=1pt, pad at break*=1mm,colback=cellbackground, colframe=cellborder]
\prompt{In}{incolor}{11}{\boxspacing}
\begin{Verbatim}[commandchars=\\\{\}]
\PY{n}{rec\PYZus{}cgls\PYZus{}id}\PY{p}{,} \PY{n}{rec\PYZus{}cgls} \PY{o}{=} \PY{n}{astra}\PY{o}{.}\PY{n}{create\PYZus{}reconstruction}\PY{p}{(}\PY{l+s+s1}{\PYZsq{}}\PY{l+s+s1}{CGLS}\PY{l+s+s1}{\PYZsq{}}\PY{p}{,} \PY{n}{proj\PYZus{}id}\PY{p}{,} \PY{n}{sinogram\PYZus{}noisy}\PY{p}{,}\PY{n}{iterations}\PY{o}{=}\PY{l+m+mi}{10}\PY{p}{)}

\PY{n}{rmse\PYZus{}cgls} \PY{o}{=} \PY{n}{RMSE}\PY{p}{(}\PY{n}{rec\PYZus{}cgls}\PY{p}{,}\PY{n}{X0}\PY{p}{)}

\PY{n}{plt}\PY{o}{.}\PY{n}{figure}\PY{p}{(}\PY{l+m+mi}{5}\PY{p}{)}
\PY{n}{dispim}\PY{p}{(}\PY{n}{rec\PYZus{}cgls}\PY{p}{)}
\PY{n}{plt}\PY{o}{.}\PY{n}{title}\PY{p}{(}\PY{l+s+s1}{\PYZsq{}}\PY{l+s+s1}{CGLS, RMSE=}\PY{l+s+si}{\PYZpc{}1.3f}\PY{l+s+s1}{\PYZsq{}} \PY{o}{\PYZpc{}} \PY{n}{rmse\PYZus{}cgls}\PY{p}{)}
\end{Verbatim}
\end{tcolorbox}

    
    \begin{verbatim}
<IPython.core.display.Javascript object>
    \end{verbatim}

    
    
    \begin{verbatim}
<IPython.core.display.HTML object>
    \end{verbatim}

    
            \begin{tcolorbox}[breakable, size=fbox, boxrule=.5pt, pad at break*=1mm, opacityfill=0]
\prompt{Out}{outcolor}{11}{\boxspacing}
\begin{Verbatim}[commandchars=\\\{\}]
Text(0.5, 1.0, 'CGLS, RMSE=0.065')
\end{Verbatim}
\end{tcolorbox}
        
    Unfortunately, it is not possible to enforce nonnegativity as part of
the CGLS algorithm. However we can set any negative values of the CGLS
reconstruction to zero afterwards:

    \begin{tcolorbox}[breakable, size=fbox, boxrule=1pt, pad at break*=1mm,colback=cellbackground, colframe=cellborder]
\prompt{In}{incolor}{12}{\boxspacing}
\begin{Verbatim}[commandchars=\\\{\}]
\PY{n}{rec\PYZus{}cgls\PYZus{}nn} \PY{o}{=} \PY{n}{rec\PYZus{}cgls}\PY{o}{.}\PY{n}{copy}\PY{p}{(}\PY{p}{)}
\PY{n}{rec\PYZus{}cgls\PYZus{}nn}\PY{p}{[}\PY{n}{rec\PYZus{}cgls\PYZus{}nn} \PY{o}{\PYZlt{}} \PY{l+m+mi}{0}\PY{p}{]} \PY{o}{=} \PY{l+m+mi}{0}

\PY{n}{rmse\PYZus{}cgls\PYZus{}nn} \PY{o}{=} \PY{n}{RMSE}\PY{p}{(}\PY{n}{rec\PYZus{}cgls\PYZus{}nn}\PY{p}{,}\PY{n}{X0}\PY{p}{)}

\PY{n}{plt}\PY{o}{.}\PY{n}{figure}\PY{p}{(}\PY{l+m+mi}{6}\PY{p}{)}
\PY{n}{dispim}\PY{p}{(}\PY{n}{rec\PYZus{}cgls\PYZus{}nn}\PY{p}{)}
\PY{n}{plt}\PY{o}{.}\PY{n}{title}\PY{p}{(}\PY{l+s+s1}{\PYZsq{}}\PY{l+s+s1}{CGLS nonneg, RMSE=}\PY{l+s+si}{\PYZpc{}1.3f}\PY{l+s+s1}{\PYZsq{}} \PY{o}{\PYZpc{}} \PY{n}{rmse\PYZus{}cgls\PYZus{}nn}\PY{p}{)}
\end{Verbatim}
\end{tcolorbox}

    
    \begin{verbatim}
<IPython.core.display.Javascript object>
    \end{verbatim}

    
    
    \begin{verbatim}
<IPython.core.display.HTML object>
    \end{verbatim}

    
            \begin{tcolorbox}[breakable, size=fbox, boxrule=.5pt, pad at break*=1mm, opacityfill=0]
\prompt{Out}{outcolor}{12}{\boxspacing}
\begin{Verbatim}[commandchars=\\\{\}]
Text(0.5, 1.0, 'CGLS nonneg, RMSE=0.061')
\end{Verbatim}
\end{tcolorbox}
        
    Discarding negative values like this may give a small improvement but
does not manage to get rid of the streaks as effectively as SIRT with
nonnegativity.

Both SIRT and CGLS aim at finding the image that matches with the
measured data in a least-squares sense, in the case of SIRT, weighted
least-squares. In principle one should run a very large number of
iterations to converge to the least-squares solution. However the least
squares solution is typically too noisy, so in practive we introduce
regularization implicitly by terminating early before noise kicks in too
much.

We can also introduce regularization more explicitly by - in addition to
the least-squares fit to data - specifying a penalty on ``roughness'' of
the image. This can be done in many different ways, such as Tikhonov
regularization. Here we use Total Variation (TV) regularization, which
tends to reduce noise while preserving edges. There is a trade-off
between how much we want to fit to the data and how much regularity to
introduce; this is governed by the regularization parameter caller
\texttt{lam} below, with a larger value shifting towards more
regularized images.

    \begin{tcolorbox}[breakable, size=fbox, boxrule=1pt, pad at break*=1mm,colback=cellbackground, colframe=cellborder]
\prompt{In}{incolor}{13}{\boxspacing}
\begin{Verbatim}[commandchars=\\\{\}]
\PY{c+c1}{\PYZsh{} Load the TV module}
\PY{k+kn}{import} \PY{n+nn}{tvtomo}
\end{Verbatim}
\end{tcolorbox}

    Define parameters for the TV reconstruction

    \begin{tcolorbox}[breakable, size=fbox, boxrule=1pt, pad at break*=1mm,colback=cellbackground, colframe=cellborder]
\prompt{In}{incolor}{14}{\boxspacing}
\begin{Verbatim}[commandchars=\\\{\}]
\PY{n}{lam} \PY{o}{=} \PY{l+m+mf}{1e\PYZhy{}4}  \PY{c+c1}{\PYZsh{} TV regularization parameter, larger values produces smoother image.}
\PY{n}{lower\PYZus{}bound} \PY{o}{=} \PY{l+m+mi}{0}  \PY{c+c1}{\PYZsh{}  Constrain pixel values from below. Use 0 for nonnegativity and \PYZhy{}no.inf for no constraint}
\PY{n}{upper\PYZus{}bound} \PY{o}{=} \PY{n}{np}\PY{o}{.}\PY{n}{inf}  \PY{c+c1}{\PYZsh{} Upper constraint on pixel value, use np.inf for no constraint.}
\PY{n}{num\PYZus{}inner\PYZus{}iter} \PY{o}{=} \PY{l+m+mi}{100}  \PY{c+c1}{\PYZsh{} Number iterations for solving aux. problem in inner step of algorithm}
\PY{n}{num\PYZus{}main\PYZus{}iter} \PY{o}{=} \PY{l+m+mi}{50}  \PY{c+c1}{\PYZsh{} Number main iterations, more means more accurate solution but longer runtime.}
\end{Verbatim}
\end{tcolorbox}

    Wrap the ASTRA forward and backprojectors into an ``operator'' object
needed for the TV-reconstruction function.

    \begin{tcolorbox}[breakable, size=fbox, boxrule=1pt, pad at break*=1mm,colback=cellbackground, colframe=cellborder]
\prompt{In}{incolor}{15}{\boxspacing}
\begin{Verbatim}[commandchars=\\\{\}]
\PY{n}{p} \PY{o}{=} \PY{n}{astra}\PY{o}{.}\PY{n}{OpTomo}\PY{p}{(}\PY{n}{proj\PYZus{}id}\PY{p}{)}
\end{Verbatim}
\end{tcolorbox}

    Create the FISTA algorithm object that performs reconstruction:

    \begin{tcolorbox}[breakable, size=fbox, boxrule=1pt, pad at break*=1mm,colback=cellbackground, colframe=cellborder]
\prompt{In}{incolor}{16}{\boxspacing}
\begin{Verbatim}[commandchars=\\\{\}]
\PY{n}{f} \PY{o}{=} \PY{n}{tvtomo}\PY{o}{.}\PY{n}{FISTA}\PY{p}{(}\PY{n}{p}\PY{p}{,}\PY{n}{lam}\PY{p}{,}\PY{n}{num\PYZus{}inner\PYZus{}iter}\PY{p}{,}\PY{n}{bmin}\PY{o}{=}\PY{n}{lower\PYZus{}bound}\PY{p}{,}\PY{n}{bmax}\PY{o}{=}\PY{n}{upper\PYZus{}bound}\PY{p}{)}
\end{Verbatim}
\end{tcolorbox}

    Carry out the reconstruction (takes time), print progress

    \begin{tcolorbox}[breakable, size=fbox, boxrule=1pt, pad at break*=1mm,colback=cellbackground, colframe=cellborder]
\prompt{In}{incolor}{17}{\boxspacing}
\begin{Verbatim}[commandchars=\\\{\}]
\PY{n}{rec\PYZus{}tv} \PY{o}{=} \PY{n}{f}\PY{o}{.}\PY{n}{reconstruct}\PY{p}{(}\PY{n}{sinogram\PYZus{}noisy}\PY{p}{,}\PY{n}{num\PYZus{}main\PYZus{}iter}\PY{p}{,} \PY{n}{progress}\PY{o}{=}\PY{k+kc}{True}\PY{p}{)}
\end{Verbatim}
\end{tcolorbox}

    \begin{Verbatim}[commandchars=\\\{\}]
0.00 \% done (0:38:32)
2.00 \% done (0:36:53)
4.00 \% done (0:26:29)
6.00 \% done (0:20:10)
8.00 \% done (0:16:04)
10.00 \% done (0:13:18)
12.00 \% done (0:11:27)
14.00 \% done (0:09:56)
16.00 \% done (0:08:45)
18.00 \% done (0:07:48)
20.00 \% done (0:07:01)
22.00 \% done (0:06:28)
24.00 \% done (0:05:58)
26.00 \% done (0:05:27)
28.00 \% done (0:05:03)
30.00 \% done (0:04:40)
32.00 \% done (0:04:19)
34.00 \% done (0:04:00)
36.00 \% done (0:03:44)
38.00 \% done (0:03:32)
40.00 \% done (0:03:17)
42.00 \% done (0:03:05)
44.00 \% done (0:02:57)
46.00 \% done (0:02:49)
48.00 \% done (0:02:44)
50.00 \% done (0:03:01)
52.00 \% done (0:02:54)
54.00 \% done (0:02:43)
56.00 \% done (0:02:31)
58.00 \% done (0:02:20)
60.00 \% done (0:02:10)
62.00 \% done (0:02:00)
64.00 \% done (0:01:51)
66.00 \% done (0:01:42)
68.00 \% done (0:01:34)
70.00 \% done (0:01:26)
72.00 \% done (0:01:18)
74.00 \% done (0:01:11)
76.00 \% done (0:01:04)
78.00 \% done (0:00:57)
80.00 \% done (0:00:50)
82.00 \% done (0:00:44)
84.00 \% done (0:00:38)
86.00 \% done (0:00:32)
88.00 \% done (0:00:26)
90.00 \% done (0:00:20)
92.00 \% done (0:00:15)
94.00 \% done (0:00:10)
96.00 \% done (0:00:05)
98.00 \% done (0:00:00)
    \end{Verbatim}

    Compute RMSE of and display TV regularized reconstruction

    \begin{tcolorbox}[breakable, size=fbox, boxrule=1pt, pad at break*=1mm,colback=cellbackground, colframe=cellborder]
\prompt{In}{incolor}{18}{\boxspacing}
\begin{Verbatim}[commandchars=\\\{\}]
\PY{n}{rmse\PYZus{}tv} \PY{o}{=} \PY{n}{RMSE}\PY{p}{(}\PY{n}{rec\PYZus{}tv}\PY{p}{,}\PY{n}{X0}\PY{p}{)}

\PY{n}{plt}\PY{o}{.}\PY{n}{figure}\PY{p}{(}\PY{l+m+mi}{7}\PY{p}{)}
\PY{n}{dispim}\PY{p}{(}\PY{n}{rec\PYZus{}tv}\PY{p}{)}
\PY{n}{plt}\PY{o}{.}\PY{n}{title}\PY{p}{(}\PY{l+s+s1}{\PYZsq{}}\PY{l+s+s1}{TV, RMSE=}\PY{l+s+si}{\PYZpc{}1.3f}\PY{l+s+s1}{\PYZsq{}} \PY{o}{\PYZpc{}} \PY{n}{rmse\PYZus{}tv}\PY{p}{)}
\end{Verbatim}
\end{tcolorbox}

    
    \begin{verbatim}
<IPython.core.display.Javascript object>
    \end{verbatim}

    
    
    \begin{verbatim}
<IPython.core.display.HTML object>
    \end{verbatim}

    
            \begin{tcolorbox}[breakable, size=fbox, boxrule=.5pt, pad at break*=1mm, opacityfill=0]
\prompt{Out}{outcolor}{18}{\boxspacing}
\begin{Verbatim}[commandchars=\\\{\}]
Text(0.5, 1.0, 'TV, RMSE=0.063')
\end{Verbatim}
\end{tcolorbox}
        
    Note how using a large TV-parameter very effectively reduces noise and
preserves edges, but can lose small features. A small TV-parameter
enforces little regularization and in the limit of approaching zero, the
reconstruction will be similar to the least-squares solution from CGLS
(try this).

For TV-regularization (and most other types of regularization that
amount to solving an optimization problem) we do in principle want to
continue iterations until the reconstruction converges to the
TV-solution. However, that is not practical as will require a very long
time, so in practice we choose a number of iterations to run (or another
termination criterion for the iteration), so we may only get an
approximate solution (which may or may not be a better reconstruction
than the converged one). Note that this is different from the case of
SIRT and CGLS where we deliberately terminate iterations early too
implicitly enforce regularization.

    Finally clean up:

    \begin{tcolorbox}[breakable, size=fbox, boxrule=1pt, pad at break*=1mm,colback=cellbackground, colframe=cellborder]
\prompt{In}{incolor}{19}{\boxspacing}
\begin{Verbatim}[commandchars=\\\{\}]
\PY{n}{astra}\PY{o}{.}\PY{n}{data2d}\PY{o}{.}\PY{n}{delete}\PY{p}{(}\PY{n}{sino\PYZus{}id}\PY{p}{)}
\PY{n}{astra}\PY{o}{.}\PY{n}{data2d}\PY{o}{.}\PY{n}{delete}\PY{p}{(}\PY{n}{rec\PYZus{}fbp\PYZus{}id}\PY{p}{)}
\PY{n}{astra}\PY{o}{.}\PY{n}{data2d}\PY{o}{.}\PY{n}{delete}\PY{p}{(}\PY{n}{rec\PYZus{}sirt\PYZus{}id}\PY{p}{)}
\PY{n}{astra}\PY{o}{.}\PY{n}{data2d}\PY{o}{.}\PY{n}{delete}\PY{p}{(}\PY{n}{rec\PYZus{}sirt\PYZus{}nn\PYZus{}id}\PY{p}{)}
\PY{n}{astra}\PY{o}{.}\PY{n}{data2d}\PY{o}{.}\PY{n}{delete}\PY{p}{(}\PY{n}{rec\PYZus{}cgls\PYZus{}id}\PY{p}{)}
\PY{n}{astra}\PY{o}{.}\PY{n}{projector}\PY{o}{.}\PY{n}{delete}\PY{p}{(}\PY{n}{proj\PYZus{}id}\PY{p}{)}
\end{Verbatim}
\end{tcolorbox}

    \begin{tcolorbox}[breakable, size=fbox, boxrule=1pt, pad at break*=1mm,colback=cellbackground, colframe=cellborder]
\prompt{In}{incolor}{ }{\boxspacing}
\begin{Verbatim}[commandchars=\\\{\}]

\end{Verbatim}
\end{tcolorbox}


    % Add a bibliography block to the postdoc
    
    
    
\end{document}
